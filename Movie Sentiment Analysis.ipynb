{
  "cells": [
    {
      "cell_type": "markdown",
      "id": "1230de6a",
      "metadata": {
        "id": "1230de6a"
      },
      "source": [
        "# IMDB Movie Sentiment Analysis using RNN and LSTM RNN"
      ]
    },
    {
      "cell_type": "markdown",
      "id": "39993e33",
      "metadata": {
        "id": "39993e33"
      },
      "source": [
        "## Introduction\n",
        "\n",
        "Sentiment analysis is a key task in Natural Language Processing (NLP) that aims to determine whether a given piece of text expresses a\n",
        "positive, negative, or neutral sentiment. One of the most widely used benchmark datasets for sentiment classification is the `IMDB Movie Review Dataset`, which contains 50,000 highly polarized movie reviews (25,000 for training and 25,000 for testing), labeled as positive or negative.\n",
        "\n",
        "**The goal of this project is to build a deep learning model that can automatically classify the sentiment of a movie review as either positive or negative.**"
      ]
    },
    {
      "cell_type": "markdown",
      "id": "9912669e",
      "metadata": {
        "id": "9912669e"
      },
      "source": [
        "## Why Recurrent Neural Networks (RNNs)?\n",
        "\n",
        "Unlike traditional machine learning models, `Recurrent Neural Networks (RNNs)` are designed to handle sequential data, making them highly effective for text analysis. In natural language, the meaning of a word often depends on the words that precede or follow it. RNNs capture these dependencies and context by maintaining a hidden state that gets updated as they process each token in the sequence.\n",
        "\n",
        "For example:\n",
        "\n",
        "- \"The movie was great.\" → Positive sentiment\n",
        "\n",
        "- \"The movie was not great.\" → Negative sentiment\n",
        "\n",
        "Here, the presence of \"not\" changes the meaning of \"great.\" RNNs are capable of learning such contextual relationships, unlike simpler models like bag-of-words or logistic regression."
      ]
    },
    {
      "cell_type": "markdown",
      "id": "3f9b58b3",
      "metadata": {
        "id": "3f9b58b3"
      },
      "source": [
        "## Problem Statement\n",
        "\n",
        "Given a dataset of IMDB movie reviews labeled as positive or negative, build a Recurrent Neural Network-based sentiment analysis model that can accurately predict the sentiment of a review."
      ]
    },
    {
      "cell_type": "code",
      "execution_count": null,
      "id": "a2aca775",
      "metadata": {
        "id": "a2aca775"
      },
      "outputs": [],
      "source": [
        "# Importing required libraries\n",
        "\n",
        "import re\n",
        "import nltk\n",
        "import numpy as np\n",
        "import pandas as pd\n",
        "import tensorflow as tf\n",
        "import matplotlib.pyplot as plt\n",
        "import seaborn as sns"
      ]
    },
    {
      "cell_type": "code",
      "execution_count": null,
      "id": "ddfdaa56",
      "metadata": {
        "colab": {
          "base_uri": "https://localhost:8080/",
          "height": 206
        },
        "id": "ddfdaa56",
        "outputId": "6aebc3a9-3111-48d5-d88f-524b59099434"
      },
      "outputs": [
        {
          "output_type": "execute_result",
          "data": {
            "text/plain": [
              "                                              review sentiment\n",
              "0  One of the other reviewers has mentioned that ...  positive\n",
              "1  A wonderful little production. <br /><br />The...  positive\n",
              "2  I thought this was a wonderful way to spend ti...  positive\n",
              "3  Basically there's a family where a little boy ...  negative\n",
              "4  Petter Mattei's \"Love in the Time of Money\" is...  positive"
            ],
            "text/html": [
              "\n",
              "  <div id=\"df-c70ed293-5e93-45a6-b001-a82bfb78ff56\" class=\"colab-df-container\">\n",
              "    <div>\n",
              "<style scoped>\n",
              "    .dataframe tbody tr th:only-of-type {\n",
              "        vertical-align: middle;\n",
              "    }\n",
              "\n",
              "    .dataframe tbody tr th {\n",
              "        vertical-align: top;\n",
              "    }\n",
              "\n",
              "    .dataframe thead th {\n",
              "        text-align: right;\n",
              "    }\n",
              "</style>\n",
              "<table border=\"1\" class=\"dataframe\">\n",
              "  <thead>\n",
              "    <tr style=\"text-align: right;\">\n",
              "      <th></th>\n",
              "      <th>review</th>\n",
              "      <th>sentiment</th>\n",
              "    </tr>\n",
              "  </thead>\n",
              "  <tbody>\n",
              "    <tr>\n",
              "      <th>0</th>\n",
              "      <td>One of the other reviewers has mentioned that ...</td>\n",
              "      <td>positive</td>\n",
              "    </tr>\n",
              "    <tr>\n",
              "      <th>1</th>\n",
              "      <td>A wonderful little production. &lt;br /&gt;&lt;br /&gt;The...</td>\n",
              "      <td>positive</td>\n",
              "    </tr>\n",
              "    <tr>\n",
              "      <th>2</th>\n",
              "      <td>I thought this was a wonderful way to spend ti...</td>\n",
              "      <td>positive</td>\n",
              "    </tr>\n",
              "    <tr>\n",
              "      <th>3</th>\n",
              "      <td>Basically there's a family where a little boy ...</td>\n",
              "      <td>negative</td>\n",
              "    </tr>\n",
              "    <tr>\n",
              "      <th>4</th>\n",
              "      <td>Petter Mattei's \"Love in the Time of Money\" is...</td>\n",
              "      <td>positive</td>\n",
              "    </tr>\n",
              "  </tbody>\n",
              "</table>\n",
              "</div>\n",
              "    <div class=\"colab-df-buttons\">\n",
              "\n",
              "  <div class=\"colab-df-container\">\n",
              "    <button class=\"colab-df-convert\" onclick=\"convertToInteractive('df-c70ed293-5e93-45a6-b001-a82bfb78ff56')\"\n",
              "            title=\"Convert this dataframe to an interactive table.\"\n",
              "            style=\"display:none;\">\n",
              "\n",
              "  <svg xmlns=\"http://www.w3.org/2000/svg\" height=\"24px\" viewBox=\"0 -960 960 960\">\n",
              "    <path d=\"M120-120v-720h720v720H120Zm60-500h600v-160H180v160Zm220 220h160v-160H400v160Zm0 220h160v-160H400v160ZM180-400h160v-160H180v160Zm440 0h160v-160H620v160ZM180-180h160v-160H180v160Zm440 0h160v-160H620v160Z\"/>\n",
              "  </svg>\n",
              "    </button>\n",
              "\n",
              "  <style>\n",
              "    .colab-df-container {\n",
              "      display:flex;\n",
              "      gap: 12px;\n",
              "    }\n",
              "\n",
              "    .colab-df-convert {\n",
              "      background-color: #E8F0FE;\n",
              "      border: none;\n",
              "      border-radius: 50%;\n",
              "      cursor: pointer;\n",
              "      display: none;\n",
              "      fill: #1967D2;\n",
              "      height: 32px;\n",
              "      padding: 0 0 0 0;\n",
              "      width: 32px;\n",
              "    }\n",
              "\n",
              "    .colab-df-convert:hover {\n",
              "      background-color: #E2EBFA;\n",
              "      box-shadow: 0px 1px 2px rgba(60, 64, 67, 0.3), 0px 1px 3px 1px rgba(60, 64, 67, 0.15);\n",
              "      fill: #174EA6;\n",
              "    }\n",
              "\n",
              "    .colab-df-buttons div {\n",
              "      margin-bottom: 4px;\n",
              "    }\n",
              "\n",
              "    [theme=dark] .colab-df-convert {\n",
              "      background-color: #3B4455;\n",
              "      fill: #D2E3FC;\n",
              "    }\n",
              "\n",
              "    [theme=dark] .colab-df-convert:hover {\n",
              "      background-color: #434B5C;\n",
              "      box-shadow: 0px 1px 3px 1px rgba(0, 0, 0, 0.15);\n",
              "      filter: drop-shadow(0px 1px 2px rgba(0, 0, 0, 0.3));\n",
              "      fill: #FFFFFF;\n",
              "    }\n",
              "  </style>\n",
              "\n",
              "    <script>\n",
              "      const buttonEl =\n",
              "        document.querySelector('#df-c70ed293-5e93-45a6-b001-a82bfb78ff56 button.colab-df-convert');\n",
              "      buttonEl.style.display =\n",
              "        google.colab.kernel.accessAllowed ? 'block' : 'none';\n",
              "\n",
              "      async function convertToInteractive(key) {\n",
              "        const element = document.querySelector('#df-c70ed293-5e93-45a6-b001-a82bfb78ff56');\n",
              "        const dataTable =\n",
              "          await google.colab.kernel.invokeFunction('convertToInteractive',\n",
              "                                                    [key], {});\n",
              "        if (!dataTable) return;\n",
              "\n",
              "        const docLinkHtml = 'Like what you see? Visit the ' +\n",
              "          '<a target=\"_blank\" href=https://colab.research.google.com/notebooks/data_table.ipynb>data table notebook</a>'\n",
              "          + ' to learn more about interactive tables.';\n",
              "        element.innerHTML = '';\n",
              "        dataTable['output_type'] = 'display_data';\n",
              "        await google.colab.output.renderOutput(dataTable, element);\n",
              "        const docLink = document.createElement('div');\n",
              "        docLink.innerHTML = docLinkHtml;\n",
              "        element.appendChild(docLink);\n",
              "      }\n",
              "    </script>\n",
              "  </div>\n",
              "\n",
              "\n",
              "    <div id=\"df-ce61c89a-faa2-4192-9c95-6cfcbdae53bb\">\n",
              "      <button class=\"colab-df-quickchart\" onclick=\"quickchart('df-ce61c89a-faa2-4192-9c95-6cfcbdae53bb')\"\n",
              "                title=\"Suggest charts\"\n",
              "                style=\"display:none;\">\n",
              "\n",
              "<svg xmlns=\"http://www.w3.org/2000/svg\" height=\"24px\"viewBox=\"0 0 24 24\"\n",
              "     width=\"24px\">\n",
              "    <g>\n",
              "        <path d=\"M19 3H5c-1.1 0-2 .9-2 2v14c0 1.1.9 2 2 2h14c1.1 0 2-.9 2-2V5c0-1.1-.9-2-2-2zM9 17H7v-7h2v7zm4 0h-2V7h2v10zm4 0h-2v-4h2v4z\"/>\n",
              "    </g>\n",
              "</svg>\n",
              "      </button>\n",
              "\n",
              "<style>\n",
              "  .colab-df-quickchart {\n",
              "      --bg-color: #E8F0FE;\n",
              "      --fill-color: #1967D2;\n",
              "      --hover-bg-color: #E2EBFA;\n",
              "      --hover-fill-color: #174EA6;\n",
              "      --disabled-fill-color: #AAA;\n",
              "      --disabled-bg-color: #DDD;\n",
              "  }\n",
              "\n",
              "  [theme=dark] .colab-df-quickchart {\n",
              "      --bg-color: #3B4455;\n",
              "      --fill-color: #D2E3FC;\n",
              "      --hover-bg-color: #434B5C;\n",
              "      --hover-fill-color: #FFFFFF;\n",
              "      --disabled-bg-color: #3B4455;\n",
              "      --disabled-fill-color: #666;\n",
              "  }\n",
              "\n",
              "  .colab-df-quickchart {\n",
              "    background-color: var(--bg-color);\n",
              "    border: none;\n",
              "    border-radius: 50%;\n",
              "    cursor: pointer;\n",
              "    display: none;\n",
              "    fill: var(--fill-color);\n",
              "    height: 32px;\n",
              "    padding: 0;\n",
              "    width: 32px;\n",
              "  }\n",
              "\n",
              "  .colab-df-quickchart:hover {\n",
              "    background-color: var(--hover-bg-color);\n",
              "    box-shadow: 0 1px 2px rgba(60, 64, 67, 0.3), 0 1px 3px 1px rgba(60, 64, 67, 0.15);\n",
              "    fill: var(--button-hover-fill-color);\n",
              "  }\n",
              "\n",
              "  .colab-df-quickchart-complete:disabled,\n",
              "  .colab-df-quickchart-complete:disabled:hover {\n",
              "    background-color: var(--disabled-bg-color);\n",
              "    fill: var(--disabled-fill-color);\n",
              "    box-shadow: none;\n",
              "  }\n",
              "\n",
              "  .colab-df-spinner {\n",
              "    border: 2px solid var(--fill-color);\n",
              "    border-color: transparent;\n",
              "    border-bottom-color: var(--fill-color);\n",
              "    animation:\n",
              "      spin 1s steps(1) infinite;\n",
              "  }\n",
              "\n",
              "  @keyframes spin {\n",
              "    0% {\n",
              "      border-color: transparent;\n",
              "      border-bottom-color: var(--fill-color);\n",
              "      border-left-color: var(--fill-color);\n",
              "    }\n",
              "    20% {\n",
              "      border-color: transparent;\n",
              "      border-left-color: var(--fill-color);\n",
              "      border-top-color: var(--fill-color);\n",
              "    }\n",
              "    30% {\n",
              "      border-color: transparent;\n",
              "      border-left-color: var(--fill-color);\n",
              "      border-top-color: var(--fill-color);\n",
              "      border-right-color: var(--fill-color);\n",
              "    }\n",
              "    40% {\n",
              "      border-color: transparent;\n",
              "      border-right-color: var(--fill-color);\n",
              "      border-top-color: var(--fill-color);\n",
              "    }\n",
              "    60% {\n",
              "      border-color: transparent;\n",
              "      border-right-color: var(--fill-color);\n",
              "    }\n",
              "    80% {\n",
              "      border-color: transparent;\n",
              "      border-right-color: var(--fill-color);\n",
              "      border-bottom-color: var(--fill-color);\n",
              "    }\n",
              "    90% {\n",
              "      border-color: transparent;\n",
              "      border-bottom-color: var(--fill-color);\n",
              "    }\n",
              "  }\n",
              "</style>\n",
              "\n",
              "      <script>\n",
              "        async function quickchart(key) {\n",
              "          const quickchartButtonEl =\n",
              "            document.querySelector('#' + key + ' button');\n",
              "          quickchartButtonEl.disabled = true;  // To prevent multiple clicks.\n",
              "          quickchartButtonEl.classList.add('colab-df-spinner');\n",
              "          try {\n",
              "            const charts = await google.colab.kernel.invokeFunction(\n",
              "                'suggestCharts', [key], {});\n",
              "          } catch (error) {\n",
              "            console.error('Error during call to suggestCharts:', error);\n",
              "          }\n",
              "          quickchartButtonEl.classList.remove('colab-df-spinner');\n",
              "          quickchartButtonEl.classList.add('colab-df-quickchart-complete');\n",
              "        }\n",
              "        (() => {\n",
              "          let quickchartButtonEl =\n",
              "            document.querySelector('#df-ce61c89a-faa2-4192-9c95-6cfcbdae53bb button');\n",
              "          quickchartButtonEl.style.display =\n",
              "            google.colab.kernel.accessAllowed ? 'block' : 'none';\n",
              "        })();\n",
              "      </script>\n",
              "    </div>\n",
              "\n",
              "    </div>\n",
              "  </div>\n"
            ],
            "application/vnd.google.colaboratory.intrinsic+json": {
              "type": "dataframe",
              "variable_name": "data",
              "summary": "{\n  \"name\": \"data\",\n  \"rows\": 50000,\n  \"fields\": [\n    {\n      \"column\": \"review\",\n      \"properties\": {\n        \"dtype\": \"string\",\n        \"num_unique_values\": 49582,\n        \"samples\": [\n          \"\\\"Soul Plane\\\" is a horrible attempt at comedy that only should appeal people with thick skulls, bloodshot eyes and furry pawns. <br /><br />The plot is not only incoherent but also non-existent, acting is mostly sub sub-par with a gang of highly moronic and dreadful characters thrown in for bad measure, jokes are often spotted miles ahead and almost never even a bit amusing. This movie lacks any structure and is full of racial stereotypes that must have seemed old even in the fifties, the only thing it really has going for it is some pretty ladies, but really, if you want that you can rent something from the \\\"Adult\\\" section. OK?<br /><br />I can hardly see anything here to recommend since you'll probably have a lot a better and productive time chasing rats with a sledgehammer or inventing waterproof teabags or whatever.<br /><br />2/10\",\n          \"Guest from the Future tells a fascinating story of time travel, friendship, battle of good and evil -- all with a small budget, child actors, and few special effects. Something for Spielberg and Lucas to learn from. ;) A sixth-grader Kolya \\\"Nick\\\" Gerasimov finds a time machine in the basement of a decrepit building and travels 100 years into the future. He discovers a near-perfect, utopian society where robots play guitars and write poetry, everyone is kind to each other and people enjoy everything technology has to offer. Alice is the daughter of a prominent scientist who invented a device called Mielophone that allows to read minds of humans and animals. The device can be put to both good and bad use, depending on whose hands it falls into. When two evil space pirates from Saturn who want to rule the universe attempt to steal Mielophone, it falls into the hands of 20th century school boy Nick. With the pirates hot on his tracks, he travels back to his time, followed by the pirates, and Alice. Chaos, confusion and funny situations follow as the luckless pirates try to blend in with the earthlings. Alice enrolls in the same school Nick goes to and demonstrates superhuman abilities in PE class. The catch is, Alice doesn't know what Nick looks like, while the pirates do. Also, the pirates are able to change their appearance and turn literally into anyone. (Hmm, I wonder if this is where James Cameron got the idea for Terminator...) Who gets to Nick -- and Mielophone -- first? Excellent plot, non-stop adventures, and great soundtrack. I wish Hollywood made kid movies like this one...\",\n          \"\\\"National Treasure\\\" (2004) is a thoroughly misguided hodge-podge of plot entanglements that borrow from nearly every cloak and dagger government conspiracy clich\\u00e9 that has ever been written. The film stars Nicholas Cage as Benjamin Franklin Gates (how precious is that, I ask you?); a seemingly normal fellow who, for no other reason than being of a lineage of like-minded misguided fortune hunters, decides to steal a 'national treasure' that has been hidden by the United States founding fathers. After a bit of subtext and background that plays laughably (unintentionally) like Indiana Jones meets The Patriot, the film degenerates into one misguided whimsy after another \\u0096 attempting to create a 'Stanley Goodspeed' regurgitation of Nicholas Cage and launch the whole convoluted mess forward with a series of high octane, but disconnected misadventures.<br /><br />The relevancy and logic to having George Washington and his motley crew of patriots burying a king's ransom someplace on native soil, and then, going through the meticulous plan of leaving clues scattered throughout U.S. currency art work, is something that director Jon Turteltaub never quite gets around to explaining. Couldn't Washington found better usage for such wealth during the start up of the country? Hence, we are left with a mystery built on top of an enigma that is already on shaky ground by the time Ben appoints himself the new custodian of this untold wealth. Ben's intentions are noble \\u0096 if confusing. He's set on protecting the treasure. For who and when?\\u0085your guess is as good as mine.<br /><br />But there are a few problems with Ben's crusade. First up, his friend, Ian Holmes (Sean Bean) decides that he can't wait for Ben to make up his mind about stealing the Declaration of Independence from the National Archives (oh, yeah \\u0096 brilliant idea!). Presumably, the back of that famous document holds the secret answer to the ultimate fortune. So Ian tries to kill Ben. The assassination attempt is, of course, unsuccessful, if overly melodramatic. It also affords Ben the opportunity to pick up, and pick on, the very sultry curator of the archives, Abigail Chase (Diane Kruger). She thinks Ben is clearly a nut \\u0096 at least at the beginning. But true to action/romance form, Abby's resolve melts quicker than you can say, \\\"is that the Hope Diamond?\\\" The film moves into full X-File-ish mode, as the FBI, mistakenly believing that Ben is behind the theft, retaliate in various benign ways that lead to a multi-layering of action sequences reminiscent of Mission Impossible meets The Fugitive. Honestly, don't those guys ever get 'intelligence' information that is correct? In the final analysis, \\\"National Treasure\\\" isn't great film making, so much as it's a patchwork rehash of tired old bits from other movies, woven together from scraps, the likes of which would make IL' Betsy Ross blush.<br /><br />The Buena Vista DVD delivers a far more generous treatment than this film is deserving of. The anamorphic widescreen picture exhibits a very smooth and finely detailed image with very rich colors, natural flesh tones, solid blacks and clean whites. The stylized image is also free of blemishes and digital enhancements. The audio is 5.1 and delivers a nice sonic boom to your side and rear speakers with intensity and realism. Extras include a host of promotional junket material that is rather deep and over the top in its explanation of how and why this film was made. If only, as an audience, we had had more clarification as to why Ben and co. were chasing after an illusive treasure, this might have been one good flick. Extras conclude with the theatrical trailer, audio commentary and deleted scenes. Not for the faint-hearted \\u0096 just the thick-headed.\"\n        ],\n        \"semantic_type\": \"\",\n        \"description\": \"\"\n      }\n    },\n    {\n      \"column\": \"sentiment\",\n      \"properties\": {\n        \"dtype\": \"category\",\n        \"num_unique_values\": 2,\n        \"samples\": [\n          \"negative\",\n          \"positive\"\n        ],\n        \"semantic_type\": \"\",\n        \"description\": \"\"\n      }\n    }\n  ]\n}"
            }
          },
          "metadata": {},
          "execution_count": 5
        }
      ],
      "source": [
        "data = pd.read_csv('dataset/IMDB Dataset.csv')\n",
        "data.head()"
      ]
    },
    {
      "cell_type": "code",
      "execution_count": null,
      "id": "daeb3057",
      "metadata": {
        "colab": {
          "base_uri": "https://localhost:8080/"
        },
        "id": "daeb3057",
        "outputId": "a939254d-5721-4687-f5a3-c4e73414b7fc"
      },
      "outputs": [
        {
          "output_type": "execute_result",
          "data": {
            "text/plain": [
              "(50000, 2)"
            ]
          },
          "metadata": {},
          "execution_count": 6
        }
      ],
      "source": [
        "data.shape"
      ]
    },
    {
      "cell_type": "code",
      "execution_count": null,
      "id": "5c8e9a9d",
      "metadata": {
        "colab": {
          "base_uri": "https://localhost:8080/"
        },
        "id": "5c8e9a9d",
        "outputId": "f5580898-3cb9-419a-a165-4dc2da04a717"
      },
      "outputs": [
        {
          "output_type": "stream",
          "name": "stdout",
          "text": [
            "<class 'pandas.core.frame.DataFrame'>\n",
            "RangeIndex: 50000 entries, 0 to 49999\n",
            "Data columns (total 2 columns):\n",
            " #   Column     Non-Null Count  Dtype \n",
            "---  ------     --------------  ----- \n",
            " 0   review     50000 non-null  object\n",
            " 1   sentiment  50000 non-null  object\n",
            "dtypes: object(2)\n",
            "memory usage: 781.4+ KB\n"
          ]
        }
      ],
      "source": [
        "data.info()"
      ]
    },
    {
      "cell_type": "code",
      "execution_count": null,
      "id": "5ea95c62",
      "metadata": {
        "colab": {
          "base_uri": "https://localhost:8080/",
          "height": 477
        },
        "id": "5ea95c62",
        "outputId": "aada7689-6dd8-4b3d-9544-f614a3db110d"
      },
      "outputs": [
        {
          "output_type": "display_data",
          "data": {
            "text/plain": [
              "<Figure size 640x480 with 1 Axes>"
            ],
            "image/png": "[encoded data removed]"
          },
          "metadata": {}
        }
      ],
      "source": [
        "# Checking the distribution of the Sentiment column\n",
        "\n",
        "plt.style.use(\"ggplot\")\n",
        "sns.countplot(data = data, x = data[\"sentiment\"])\n",
        "plt.title('Sentiment column distribution')\n",
        "plt.show()"
      ]
    },
    {
      "cell_type": "markdown",
      "id": "1d6708cc",
      "metadata": {
        "id": "1d6708cc"
      },
      "source": [
        "**There is no class imbalance both class has an equal number of data.**"
      ]
    },
    {
      "cell_type": "code",
      "execution_count": null,
      "id": "af723c5c",
      "metadata": {
        "colab": {
          "base_uri": "https://localhost:8080/",
          "height": 143
        },
        "id": "af723c5c",
        "outputId": "953a6304-1379-4800-d6cf-12c3cd8ecdc2"
      },
      "outputs": [
        {
          "output_type": "execute_result",
          "data": {
            "text/plain": [
              "'So im not a big fan of Boll\\'s work but then again not many are. I enjoyed his movie Postal (maybe im the only one). Boll apparently bought the rights to use Far Cry long ago even before the game itself was even finsished. <br /><br />People who have enjoyed killing mercs and infiltrating secret research labs located on a tropical island should be warned, that this is not Far Cry... This is something Mr Boll have schemed together along with his legion of schmucks.. Feeling loneley on the set Mr Boll invites three of his countrymen to play with. These players go by the names of Til Schweiger, Udo Kier and Ralf Moeller.<br /><br />Three names that actually have made them selfs pretty big in the movie biz. So the tale goes like this, Jack Carver played by Til Schweiger (yes Carver is German all hail the bratwurst eating dudes!!) However I find that Tils acting in this movie is pretty badass.. People have complained about how he\\'s not really staying true to the whole Carver agenda but we only saw carver in a first person perspective so we don\\'t really know what he looked like when he was kicking a**.. <br /><br />However, the storyline in this film is beyond demented. We see the evil mad scientist Dr. Krieger played by Udo Kier, making Genetically-Mutated-soldiers or GMS as they are called. Performing his top-secret research on an island that reminds me of \"SPOILER\" Vancouver for some reason. Thats right no palm trees here. Instead we got some nice rich lumberjack-woods. We haven\\'t even gone FAR before I started to CRY (mehehe) I cannot go on any more.. If you wanna stay true to Bolls shenanigans then go and see this movie you will not be disappointed it delivers the true Boll experience, meaning most of it will suck.<br /><br />There are some things worth mentioning that would imply that Boll did a good work on some areas of the film such as some nice boat and fighting scenes. Until the whole cromed/albino GMS squad enters the scene and everything just makes me laugh.. The movie Far Cry reeks of scheisse (that\\'s poop for you simpletons) from a fa,r if you wanna take a wiff go ahead.. BTW Carver gets a very annoying sidekick who makes you wanna shoot him the first three minutes he\\'s on screen.'"
            ],
            "application/vnd.google.colaboratory.intrinsic+json": {
              "type": "string"
            }
          },
          "metadata": {},
          "execution_count": 9
        }
      ],
      "source": [
        "# Checking one review entry\n",
        "data[\"review\"][12]"
      ]
    },
    {
      "cell_type": "markdown",
      "id": "3e739dfc",
      "metadata": {
        "id": "3e739dfc"
      },
      "source": [
        "## Data Preprocessing"
      ]
    },
    {
      "cell_type": "code",
      "execution_count": null,
      "id": "a0ac90b0",
      "metadata": {
        "id": "a0ac90b0"
      },
      "outputs": [],
      "source": [
        "from nltk.corpus import stopwords\n",
        "\n",
        "stopwords_list = set(stopwords.words('english'))\n",
        "\n",
        "TAG_RE = re.compile(r'<[^>]+>')\n",
        "\n",
        "def remove_tags(text):\n",
        "    \"\"\"\n",
        "    Uses regex to find anything inside <...> and remove it\n",
        "    \"\"\"\n",
        "    return TAG_RE.sub('', text)"
      ]
    },
    {
      "cell_type": "code",
      "execution_count": null,
      "id": "7bb34a86",
      "metadata": {
        "id": "7bb34a86"
      },
      "outputs": [],
      "source": [
        "class PreprocessData():\n",
        "    \"\"\"\n",
        "    This class is a pipeline for cleaning text. It removes html tags,\n",
        "    punctuations, numbers, single characters, multiple spaces, and stopwords.\n",
        "    \"\"\"\n",
        "    def __init__(self):\n",
        "        pass\n",
        "\n",
        "    def preprocess_text(self, sentence):\n",
        "        sentence = sentence.lower()\n",
        "\n",
        "        # Remove html tags\n",
        "        sentence = remove_tags(sentence)\n",
        "\n",
        "        # Remove Punctuations & Numbers\n",
        "        sentence = re.sub('[^a-zA-Z]', ' ', sentence)\n",
        "\n",
        "        # Remove Single Characters\n",
        "        sentence = re.sub(r\"\\s+[a-zA-Z]\\s+\", ' ', sentence)\n",
        "\n",
        "        # Remove Multiple Spaces\n",
        "        sentence = re.sub(r'\\s+', ' ', sentence)\n",
        "\n",
        "        # Remove Stopwords\n",
        "        pattern = re.compile(r'\\b(' + r'|'.join(stopwords_list) + r')\\b\\s*')\n",
        "        sentence = pattern.sub('', sentence)\n",
        "\n",
        "        return sentence"
      ]
    },
    {
      "cell_type": "code",
      "execution_count": null,
      "id": "5eec746f",
      "metadata": {
        "colab": {
          "base_uri": "https://localhost:8080/",
          "height": 35
        },
        "id": "5eec746f",
        "outputId": "243e9246-31b3-4994-e887-9eb901721464"
      },
      "outputs": [
        {
          "output_type": "execute_result",
          "data": {
            "text/plain": [
              "'things worth mentioning would imply boll good work areas film nice boat fighting scenes '"
            ],
            "application/vnd.google.colaboratory.intrinsic+json": {
              "type": "string"
            }
          },
          "metadata": {},
          "execution_count": 14
        }
      ],
      "source": [
        "# Preprocessing a sample sentence\n",
        "\n",
        "preprocess = PreprocessData()\n",
        "preprocess.preprocess_text(\"There are some things worth mentioning that would imply that Boll did a good work on some areas of the film such as some nice boat and fighting scenes.\")"
      ]
    },
    {
      "cell_type": "markdown",
      "id": "bded21f9",
      "metadata": {
        "id": "bded21f9"
      },
      "source": [
        "**Only important words like nouns, verbs, adjectives, and adverbs are kept. Stopwords like \"is\", \"the\", \"and\", etc. are removed.**"
      ]
    },
    {
      "cell_type": "code",
      "execution_count": null,
      "id": "8e4432b4",
      "metadata": {
        "id": "8e4432b4"
      },
      "outputs": [],
      "source": [
        "# Building the preprocessed dataset\n",
        "\n",
        "X = []\n",
        "sentences = list(data['review'])\n",
        "\n",
        "for sentence in sentences:\n",
        "    X.append(preprocess.preprocess_text(sentence))"
      ]
    },
    {
      "cell_type": "code",
      "execution_count": null,
      "id": "6d86df63",
      "metadata": {
        "colab": {
          "base_uri": "https://localhost:8080/"
        },
        "id": "6d86df63",
        "outputId": "1d699d15-b242-4966-9ef1-22d3151c2eb6"
      },
      "outputs": [
        {
          "output_type": "execute_result",
          "data": {
            "text/plain": [
              "array([1, 1, 1, 0, 1, 1, 1, 0, 0, 1])"
            ]
          },
          "metadata": {},
          "execution_count": 16
        }
      ],
      "source": [
        "# Target label mapping\n",
        "\n",
        "Y = data['sentiment']\n",
        "sentiment_map = {'negative' : 0, 'positive': 1}\n",
        "\n",
        "Y = np.array(Y.map(sentiment_map))\n",
        "Y[:10]"
      ]
    },
    {
      "cell_type": "markdown",
      "id": "58a0a7d2",
      "metadata": {
        "id": "58a0a7d2"
      },
      "source": [
        "**Now X and Y form the input (features) and output (labels) for training the RNN sentiment classifier.**"
      ]
    },
    {
      "cell_type": "markdown",
      "id": "d51febb5",
      "metadata": {
        "id": "d51febb5"
      },
      "source": [
        "## Train-Test split"
      ]
    },
    {
      "cell_type": "code",
      "execution_count": null,
      "id": "5c1e051a",
      "metadata": {
        "id": "5c1e051a"
      },
      "outputs": [],
      "source": [
        "from sklearn.model_selection import train_test_split\n",
        "\n",
        "X_train, X_test, Y_train, Y_test  = train_test_split(X, Y, test_size = 0.2, random_state = 42)"
      ]
    },
    {
      "cell_type": "markdown",
      "id": "1625df12",
      "metadata": {
        "id": "1625df12"
      },
      "source": [
        "## Word Embeddings\n",
        "\n",
        "Raw text cannot be directly fed into a neural network, so words need to be converted into numerical representations. A simple approach is one-hot encoding, but it results in sparse vectors and does not capture semantic relationships between words.\n",
        "\n",
        "Instead, we use **word embeddings**, which are dense, low-dimensional vector representations of words. These embeddings capture semantic meaning — words with similar meanings end up having similar vector representations. For example:\n",
        "\n",
        "- \"good\", \"excellent\", and \"amazing\" will be close in the embedding space.\n",
        "\n",
        "- \"bad\", \"terrible\", and \"awful\" will form another cluster."
      ]
    },
    {
      "cell_type": "code",
      "execution_count": null,
      "id": "94d5c1f8",
      "metadata": {
        "id": "94d5c1f8"
      },
      "outputs": [],
      "source": [
        "# Using tokenizer to build a vocabulary dictionary for mapping words → unique integers\n",
        "\n",
        "from tensorflow.keras.preprocessing.text import Tokenizer\n",
        "\n",
        "vocab_size = 10000\n",
        "tokenizer = Tokenizer(num_words = vocab_size, oov_token = \"<OOV>\")"
      ]
    },
    {
      "cell_type": "markdown",
      "id": "5b9952ab",
      "metadata": {
        "id": "5b9952ab"
      },
      "source": [
        "**fit_on_texts()** scans through all training sentences in the given data\n",
        "\n",
        "It builds a vocabulary dictionary where:\n",
        "\n",
        "- The most frequent word gets the smallest integer (usually 1).\n",
        "\n",
        "- Each subsequent word gets a unique integer ID."
      ]
    },
    {
      "cell_type": "code",
      "execution_count": null,
      "id": "5b4cf4b3",
      "metadata": {
        "id": "5b4cf4b3"
      },
      "outputs": [],
      "source": [
        "tokenizer.fit_on_texts(X_train)"
      ]
    },
    {
      "cell_type": "code",
      "execution_count": null,
      "id": "7b51bc96",
      "metadata": {
        "id": "7b51bc96"
      },
      "outputs": [],
      "source": [
        "# Converting each training sentence into a sequence of integers using the word index built above.\n",
        "\n",
        "X_train = tokenizer.texts_to_sequences(X_train)\n",
        "X_test = tokenizer.texts_to_sequences(X_test)"
      ]
    },
    {
      "cell_type": "code",
      "execution_count": null,
      "id": "aeca3330",
      "metadata": {
        "colab": {
          "base_uri": "https://localhost:8080/"
        },
        "id": "aeca3330",
        "outputId": "784a92ee-f1c5-4f6d-aabb-71ce529f027d"
      },
      "outputs": [
        {
          "output_type": "execute_result",
          "data": {
            "text/plain": [
              "92395"
            ]
          },
          "metadata": {},
          "execution_count": 21
        }
      ],
      "source": [
        "# Unique tokens from the training text\n",
        "\n",
        "vocabulary_length = len(tokenizer.word_index) + 1 # We add +1 because index 0 is reserved for padding tokens\n",
        "vocabulary_length"
      ]
    },
    {
      "cell_type": "markdown",
      "id": "90ac6e63",
      "metadata": {
        "id": "90ac6e63"
      },
      "source": [
        "- After tokenization, each review is converted into a sequence of integers, the length of each review could be different.\n",
        "\n",
        "- Neural networks need inputs of the same size.\n",
        "\n",
        "- **pad_sequences** standardizes sequence length by either:\n",
        "    - `Padding`(adding zeros at the beginning or end of shorter sequences) or\n",
        "    \n",
        "    - `Truncating` (cutting longer sequences down to maxlen)."
      ]
    },
    {
      "cell_type": "code",
      "execution_count": null,
      "id": "054dbde8",
      "metadata": {
        "id": "054dbde8"
      },
      "outputs": [],
      "source": [
        "# Padding\n",
        "\n",
        "from tensorflow.keras.preprocessing.sequence import pad_sequences\n",
        "\n",
        "maxlen = 250\n",
        "\n",
        "X_train = pad_sequences(X_train, maxlen = maxlen)\n",
        "X_test = pad_sequences(X_test, maxlen = maxlen)"
      ]
    },
    {
      "cell_type": "code",
      "execution_count": null,
      "id": "0ec0fa98",
      "metadata": {
        "colab": {
          "base_uri": "https://localhost:8080/"
        },
        "id": "0ec0fa98",
        "outputId": "cdc2a729-7aea-49d0-fceb-75f2dca8dcc7"
      },
      "outputs": [
        {
          "output_type": "execute_result",
          "data": {
            "text/plain": [
              "array([[   0,    0,    0, ...,   97,  233, 3672],\n",
              "       [   0,    0,    0, ...,   23, 1546,   28],\n",
              "       [   0,    0,    0, ...,  198,  570,   10],\n",
              "       ...,\n",
              "       [   0,    0,    0, ...,  980, 1472,  461],\n",
              "       [   0,    0,    0, ...,   28, 6818,    1],\n",
              "       [   0,    0,    0, ...,  346,   14, 1809]], dtype=int32)"
            ]
          },
          "metadata": {},
          "execution_count": 23
        }
      ],
      "source": [
        "X_train"
      ]
    },
    {
      "cell_type": "markdown",
      "id": "dc7984c1",
      "metadata": {
        "id": "dc7984c1"
      },
      "source": [
        "## Training Recurrent Neural Network (RNN)"
      ]
    },
    {
      "cell_type": "code",
      "execution_count": null,
      "id": "6dbe5b96",
      "metadata": {
        "id": "6dbe5b96"
      },
      "outputs": [],
      "source": [
        "from tensorflow.keras.models import Sequential\n",
        "from tensorflow.keras.layers import Embedding, SimpleRNN, Dense\n",
        "\n",
        "model = Sequential()"
      ]
    },
    {
      "cell_type": "code",
      "execution_count": null,
      "id": "027fae44",
      "metadata": {
        "colab": {
          "base_uri": "https://localhost:8080/"
        },
        "id": "027fae44",
        "outputId": "04d0cb3b-28ab-45df-dd9c-0b776e127207"
      },
      "outputs": [
        {
          "output_type": "stream",
          "name": "stderr",
          "text": [
            "/usr/local/lib/python3.12/dist-packages/keras/src/layers/core/embedding.py:100: UserWarning: Do not pass an `input_shape`/`input_dim` argument to a layer. When using Sequential models, prefer using an `Input(shape)` object as the first layer in the model instead.\n",
            "  super().__init__(**kwargs)\n"
          ]
        }
      ],
      "source": [
        "# Embedding layer: Converts word indices (integers) into dense vector embeddings\n",
        "model.add(Embedding(10000, 128, input_shape=(maxlen,)))\n",
        "\n",
        "# SimpleRNN Layer: Processes the sequence of embeddings one step at a time\n",
        "model.add(SimpleRNN(128, activation = 'relu'))\n",
        "\n",
        "# Dense Layer: Final classification layer\n",
        "model.add(Dense(1, activation = 'sigmoid'))"
      ]
    },
    {
      "cell_type": "code",
      "execution_count": null,
      "id": "de2220cc",
      "metadata": {
        "colab": {
          "base_uri": "https://localhost:8080/",
          "height": 232
        },
        "id": "de2220cc",
        "outputId": "23dee30c-9c42-4cfe-93b0-fd829d6120e1"
      },
      "outputs": [
        {
          "output_type": "display_data",
          "data": {
            "text/plain": [
              "\u001b[1mModel: \"sequential\"\u001b[0m\n"
            ],
            "text/html": [
              "<pre style=\"white-space:pre;overflow-x:auto;line-height:normal;font-family:Menlo,'DejaVu Sans Mono',consolas,'Courier New',monospace\"><span style=\"font-weight: bold\">Model: \"sequential\"</span>\n",
              "</pre>\n"
            ]
          },
          "metadata": {}
        },
        {
          "output_type": "display_data",
          "data": {
            "text/plain": [
              "┏━━━━━━━━━━━━━━━━━━━━━━━━━━━━━━━━━┳━━━━━━━━━━━━━━━━━━━━━━━━┳━━━━━━━━━━━━━━━┓\n",
              "┃\u001b[1m \u001b[0m\u001b[1mLayer (type)                   \u001b[0m\u001b[1m \u001b[0m┃\u001b[1m \u001b[0m\u001b[1mOutput Shape          \u001b[0m\u001b[1m \u001b[0m┃\u001b[1m \u001b[0m\u001b[1m      Param #\u001b[0m\u001b[1m \u001b[0m┃\n",
              "┡━━━━━━━━━━━━━━━━━━━━━━━━━━━━━━━━━╇━━━━━━━━━━━━━━━━━━━━━━━━╇━━━━━━━━━━━━━━━┩\n",
              "│ embedding (\u001b[38;5;33mEmbedding\u001b[0m)           │ (\u001b[38;5;45mNone\u001b[0m, \u001b[38;5;34m250\u001b[0m, \u001b[38;5;34m128\u001b[0m)       │     \u001b[38;5;34m1,280,000\u001b[0m │\n",
              "├─────────────────────────────────┼────────────────────────┼───────────────┤\n",
              "│ simple_rnn (\u001b[38;5;33mSimpleRNN\u001b[0m)          │ (\u001b[38;5;45mNone\u001b[0m, \u001b[38;5;34m128\u001b[0m)            │        \u001b[38;5;34m32,896\u001b[0m │\n",
              "├─────────────────────────────────┼────────────────────────┼───────────────┤\n",
              "│ dense (\u001b[38;5;33mDense\u001b[0m)                   │ (\u001b[38;5;45mNone\u001b[0m, \u001b[38;5;34m1\u001b[0m)              │           \u001b[38;5;34m129\u001b[0m │\n",
              "└─────────────────────────────────┴────────────────────────┴───────────────┘\n"
            ],
            "text/html": [
              "<pre style=\"white-space:pre;overflow-x:auto;line-height:normal;font-family:Menlo,'DejaVu Sans Mono',consolas,'Courier New',monospace\">┏━━━━━━━━━━━━━━━━━━━━━━━━━━━━━━━━━┳━━━━━━━━━━━━━━━━━━━━━━━━┳━━━━━━━━━━━━━━━┓\n",
              "┃<span style=\"font-weight: bold\"> Layer (type)                    </span>┃<span style=\"font-weight: bold\"> Output Shape           </span>┃<span style=\"font-weight: bold\">       Param # </span>┃\n",
              "┡━━━━━━━━━━━━━━━━━━━━━━━━━━━━━━━━━╇━━━━━━━━━━━━━━━━━━━━━━━━╇━━━━━━━━━━━━━━━┩\n",
              "│ embedding (<span style=\"color: #0087ff; text-decoration-color: #0087ff\">Embedding</span>)           │ (<span style=\"color: #00d7ff; text-decoration-color: #00d7ff\">None</span>, <span style=\"color: #00af00; text-decoration-color: #00af00\">250</span>, <span style=\"color: #00af00; text-decoration-color: #00af00\">128</span>)       │     <span style=\"color: #00af00; text-decoration-color: #00af00\">1,280,000</span> │\n",
              "├─────────────────────────────────┼────────────────────────┼───────────────┤\n",
              "│ simple_rnn (<span style=\"color: #0087ff; text-decoration-color: #0087ff\">SimpleRNN</span>)          │ (<span style=\"color: #00d7ff; text-decoration-color: #00d7ff\">None</span>, <span style=\"color: #00af00; text-decoration-color: #00af00\">128</span>)            │        <span style=\"color: #00af00; text-decoration-color: #00af00\">32,896</span> │\n",
              "├─────────────────────────────────┼────────────────────────┼───────────────┤\n",
              "│ dense (<span style=\"color: #0087ff; text-decoration-color: #0087ff\">Dense</span>)                   │ (<span style=\"color: #00d7ff; text-decoration-color: #00d7ff\">None</span>, <span style=\"color: #00af00; text-decoration-color: #00af00\">1</span>)              │           <span style=\"color: #00af00; text-decoration-color: #00af00\">129</span> │\n",
              "└─────────────────────────────────┴────────────────────────┴───────────────┘\n",
              "</pre>\n"
            ]
          },
          "metadata": {}
        },
        {
          "output_type": "display_data",
          "data": {
            "text/plain": [
              "\u001b[1m Total params: \u001b[0m\u001b[38;5;34m1,313,025\u001b[0m (5.01 MB)\n"
            ],
            "text/html": [
              "<pre style=\"white-space:pre;overflow-x:auto;line-height:normal;font-family:Menlo,'DejaVu Sans Mono',consolas,'Courier New',monospace\"><span style=\"font-weight: bold\"> Total params: </span><span style=\"color: #00af00; text-decoration-color: #00af00\">1,313,025</span> (5.01 MB)\n",
              "</pre>\n"
            ]
          },
          "metadata": {}
        },
        {
          "output_type": "display_data",
          "data": {
            "text/plain": [
              "\u001b[1m Trainable params: \u001b[0m\u001b[38;5;34m1,313,025\u001b[0m (5.01 MB)\n"
            ],
            "text/html": [
              "<pre style=\"white-space:pre;overflow-x:auto;line-height:normal;font-family:Menlo,'DejaVu Sans Mono',consolas,'Courier New',monospace\"><span style=\"font-weight: bold\"> Trainable params: </span><span style=\"color: #00af00; text-decoration-color: #00af00\">1,313,025</span> (5.01 MB)\n",
              "</pre>\n"
            ]
          },
          "metadata": {}
        },
        {
          "output_type": "display_data",
          "data": {
            "text/plain": [
              "\u001b[1m Non-trainable params: \u001b[0m\u001b[38;5;34m0\u001b[0m (0.00 B)\n"
            ],
            "text/html": [
              "<pre style=\"white-space:pre;overflow-x:auto;line-height:normal;font-family:Menlo,'DejaVu Sans Mono',consolas,'Courier New',monospace\"><span style=\"font-weight: bold\"> Non-trainable params: </span><span style=\"color: #00af00; text-decoration-color: #00af00\">0</span> (0.00 B)\n",
              "</pre>\n"
            ]
          },
          "metadata": {}
        }
      ],
      "source": [
        "model.summary()"
      ]
    },
    {
      "cell_type": "markdown",
      "id": "3c842577",
      "metadata": {
        "id": "3c842577"
      },
      "source": [
        "**EarlyStopping** automatically stops training your model early when it sees that your validation performance isn’t improving anymore, helps prevent overfitting and wasted training time."
      ]
    },
    {
      "cell_type": "code",
      "execution_count": null,
      "id": "9d811fae",
      "metadata": {
        "colab": {
          "base_uri": "https://localhost:8080/"
        },
        "id": "9d811fae",
        "outputId": "ab33dd0c-2f76-4dcb-c7d6-0187348e912d"
      },
      "outputs": [
        {
          "output_type": "execute_result",
          "data": {
            "text/plain": [
              "<keras.src.callbacks.early_stopping.EarlyStopping at 0x7b8f8bcd5520>"
            ]
          },
          "metadata": {},
          "execution_count": 27
        }
      ],
      "source": [
        "# Creating an instance of EarlyStopping Callback\n",
        "from tensorflow.keras.callbacks import EarlyStopping\n",
        "\n",
        "early_stopping = EarlyStopping(\n",
        "    monitor = 'val_loss',          # what metric to watch → here it's validation loss\n",
        "    patience = 5,                  # how many epochs to wait before stopping if no improvement\n",
        "    restore_best_weights = True    # after stopping, roll back to the best model weights\n",
        ")\n",
        "\n",
        "early_stopping"
      ]
    },
    {
      "cell_type": "code",
      "execution_count": null,
      "id": "af497cd9",
      "metadata": {
        "id": "af497cd9"
      },
      "outputs": [],
      "source": [
        "model.compile(optimizer = 'adam', loss = 'binary_crossentropy', metrics = ['accuracy'])"
      ]
    },
    {
      "cell_type": "code",
      "execution_count": null,
      "id": "5d47b53b",
      "metadata": {
        "colab": {
          "base_uri": "https://localhost:8080/"
        },
        "id": "5d47b53b",
        "outputId": "8966cdd1-3f07-424c-ebf4-3daa71af7608"
      },
      "outputs": [
        {
          "output_type": "stream",
          "name": "stdout",
          "text": [
            "Epoch 1/20\n",
            "\u001b[1m1000/1000\u001b[0m \u001b[32m━━━━━━━━━━━━━━━━━━━━\u001b[0m\u001b[37m\u001b[0m \u001b[1m28s\u001b[0m 23ms/step - accuracy: 0.6537 - loss: 0.7212 - val_accuracy: 0.8095 - val_loss: 0.4321\n",
            "Epoch 2/20\n",
            "\u001b[1m1000/1000\u001b[0m \u001b[32m━━━━━━━━━━━━━━━━━━━━\u001b[0m\u001b[37m\u001b[0m \u001b[1m38s\u001b[0m 23ms/step - accuracy: 0.8513 - loss: 0.3526 - val_accuracy: 0.8576 - val_loss: 0.3350\n",
            "Epoch 3/20\n",
            "\u001b[1m1000/1000\u001b[0m \u001b[32m━━━━━━━━━━━━━━━━━━━━\u001b[0m\u001b[37m\u001b[0m \u001b[1m41s\u001b[0m 23ms/step - accuracy: 0.8941 - loss: 0.2643 - val_accuracy: 0.8669 - val_loss: 0.3393\n",
            "Epoch 4/20\n",
            "\u001b[1m1000/1000\u001b[0m \u001b[32m━━━━━━━━━━━━━━━━━━━━\u001b[0m\u001b[37m\u001b[0m \u001b[1m41s\u001b[0m 23ms/step - accuracy: 0.9156 - loss: 0.2140 - val_accuracy: 0.8581 - val_loss: 0.3411\n",
            "Epoch 5/20\n",
            "\u001b[1m1000/1000\u001b[0m \u001b[32m━━━━━━━━━━━━━━━━━━━━\u001b[0m\u001b[37m\u001b[0m \u001b[1m40s\u001b[0m 22ms/step - accuracy: 0.9387 - loss: 0.1628 - val_accuracy: 0.8255 - val_loss: 0.4045\n",
            "Epoch 6/20\n",
            "\u001b[1m1000/1000\u001b[0m \u001b[32m━━━━━━━━━━━━━━━━━━━━\u001b[0m\u001b[37m\u001b[0m \u001b[1m42s\u001b[0m 23ms/step - accuracy: 0.9465 - loss: 0.1457 - val_accuracy: 0.7850 - val_loss: 0.4875\n",
            "Epoch 7/20\n",
            "\u001b[1m1000/1000\u001b[0m \u001b[32m━━━━━━━━━━━━━━━━━━━━\u001b[0m\u001b[37m\u001b[0m \u001b[1m22s\u001b[0m 22ms/step - accuracy: 0.9508 - loss: 0.1410 - val_accuracy: 0.8365 - val_loss: 0.5231\n"
          ]
        }
      ],
      "source": [
        "# Training the model\n",
        "\n",
        "history = model.fit(X_train, Y_train, epochs = 20, batch_size = 32,\n",
        "          validation_split = 0.2,\n",
        "          callbacks = [early_stopping]\n",
        ")"
      ]
    },
    {
      "cell_type": "code",
      "execution_count": null,
      "id": "86dcff3f",
      "metadata": {
        "colab": {
          "base_uri": "https://localhost:8080/"
        },
        "id": "86dcff3f",
        "outputId": "ee13dbb1-3566-4efe-8dbf-096cbda9ce3b"
      },
      "outputs": [
        {
          "output_type": "stream",
          "name": "stdout",
          "text": [
            "\u001b[1m313/313\u001b[0m \u001b[32m━━━━━━━━━━━━━━━━━━━━\u001b[0m\u001b[37m\u001b[0m \u001b[1m3s\u001b[0m 9ms/step - accuracy: 0.8588 - loss: 0.3340\n"
          ]
        }
      ],
      "source": [
        "result = model.evaluate(X_test, Y_test, verbose = 1)"
      ]
    },
    {
      "cell_type": "code",
      "execution_count": null,
      "id": "bdbf4beb",
      "metadata": {
        "colab": {
          "base_uri": "https://localhost:8080/"
        },
        "id": "bdbf4beb",
        "outputId": "47e09416-f963-4b11-ef11-b479e1deeb74"
      },
      "outputs": [
        {
          "output_type": "stream",
          "name": "stdout",
          "text": [
            "Test Accuracy: 0.8578000068664551\n",
            "Test Loss: 0.33792269229888916\n"
          ]
        }
      ],
      "source": [
        "print(\"Test Accuracy:\", result[1])\n",
        "print(\"Test Loss:\", result[0])"
      ]
    },
    {
      "cell_type": "code",
      "execution_count": null,
      "id": "00041d25",
      "metadata": {
        "colab": {
          "base_uri": "https://localhost:8080/",
          "height": 607
        },
        "id": "00041d25",
        "outputId": "f49ab2ee-af05-4f96-c227-6f4084ed1691"
      },
      "outputs": [
        {
          "output_type": "display_data",
          "data": {
            "text/plain": [
              "<Figure size 1200x600 with 2 Axes>"
            ],
            "image/png": "[encoded data removed]"
          },
          "metadata": {}
        }
      ],
      "source": [
        "# Number of epochs\n",
        "epochs = range(1, len(history.history['accuracy']) + 1)\n",
        "\n",
        "plt.figure(figsize=(12, 6))\n",
        "\n",
        "# Accuracy Plot\n",
        "plt.subplot(1, 2, 1)\n",
        "plt.plot(epochs, history.history[\"accuracy\"], color = 'blue', marker = 'o')\n",
        "plt.plot(epochs, history.history[\"val_accuracy\"], color = 'orange', marker = 'o')\n",
        "plt.title(\"Model Accuracy\", fontsize = 14)\n",
        "plt.xlabel(\"Epochs\", color = 'black')\n",
        "plt.ylabel(\"Accuracy\", color = 'black')\n",
        "plt.legend(['Train', 'Validation'], loc = \"lower right\")\n",
        "\n",
        "# Loss Plot\n",
        "plt.subplot(1, 2, 2)\n",
        "plt.plot(epochs, history.history[\"loss\"], color = 'purple', marker = 'o')\n",
        "plt.plot(epochs, history.history[\"val_loss\"], color = 'red', marker = 'o')\n",
        "plt.title(\"Model Loss\", fontsize = 14)\n",
        "plt.xlabel(\"Epochs\", color = 'black')\n",
        "plt.ylabel(\"Loss\", color = 'black')\n",
        "plt.legend(['Train', 'Validation'], loc = \"upper right\")\n",
        "\n",
        "plt.tight_layout()\n",
        "plt.show()\n"
      ]
    },
    {
      "cell_type": "markdown",
      "id": "24e6b245",
      "metadata": {
        "id": "24e6b245"
      },
      "source": [
        "## Why Long Short-Term Memory (LSTM) Networks?\n",
        "\n",
        "`Long Short-Term Memory (LSTM)` networks are an advanced type of Recurrent Neural Network (RNN) designed to overcome the vanishing and exploding gradient problems that limit standard RNNs. While RNNs are good at handling sequential data, they struggle to capture long-term dependencies in sequences. LSTMs solve this by introducing a more sophisticated architecture that includes memory cells and gating mechanisms (input, forget, and output gates).\n",
        "\n",
        "This allows LSTMs to selectively remember or forget information over longer time spans, making them particularly effective for natural language tasks where context may be spread across many words.\n",
        "\n",
        "For example:\n",
        "\n",
        "- \"The movie that I watched last week was amazing.\" → Positive sentiment\n",
        "\n",
        "- \"The movie that I watched last week was not amazing.\" → Negative sentiment\n",
        "\n",
        "Here, the key word \"not\" occurs far from \"amazing\", and a simple RNN might fail to connect the two. LSTMs can maintain the necessary context across the entire sequence, ensuring accurate interpretation of meaning.\n",
        "\n",
        "Compared to traditional RNNs, LSTMs are better suited for:\n",
        "\n",
        "- Sentiment analysis\n",
        "\n",
        "- Machine translation\n",
        "\n",
        "- Speech recognition\n",
        "\n",
        "- Any task involving long-term contextual dependencies"
      ]
    },
    {
      "cell_type": "markdown",
      "id": "575ef1aa",
      "metadata": {
        "id": "575ef1aa"
      },
      "source": [
        "## Training Long-Short Term Memory RNN (LSTM RNN)"
      ]
    },
    {
      "cell_type": "code",
      "execution_count": null,
      "id": "3ca7e060",
      "metadata": {
        "id": "3ca7e060"
      },
      "outputs": [],
      "source": [
        "from tensorflow.keras.layers import LSTM, Input"
      ]
    },
    {
      "cell_type": "code",
      "execution_count": null,
      "id": "ffc4c4a4",
      "metadata": {
        "id": "ffc4c4a4"
      },
      "outputs": [],
      "source": [
        "# Training using LSTM\n",
        "lstm = Sequential()\n",
        "\n",
        "# Explicit input layer\n",
        "lstm.add(Input(shape = (maxlen,)))\n",
        "\n",
        "# Embedding layer: Converts word indices (integers) into dense vector embeddings\n",
        "lstm.add(Embedding(10000, 128))\n",
        "\n",
        "# LSTM layer: Learns sequential dependencies in the embedded word vectors\n",
        "lstm.add(LSTM(128))\n",
        "\n",
        "# Output layer: A dense layer with sigmoid activation for binary classification\n",
        "lstm.add(Dense(1,activation = 'sigmoid'))"
      ]
    },
    {
      "cell_type": "code",
      "execution_count": null,
      "id": "766f9797",
      "metadata": {
        "colab": {
          "base_uri": "https://localhost:8080/",
          "height": 232
        },
        "id": "766f9797",
        "outputId": "988e9658-8bc8-447d-a58f-aca002f77ae2"
      },
      "outputs": [
        {
          "output_type": "display_data",
          "data": {
            "text/plain": [
              "\u001b[1mModel: \"sequential_1\"\u001b[0m\n"
            ],
            "text/html": [
              "<pre style=\"white-space:pre;overflow-x:auto;line-height:normal;font-family:Menlo,'DejaVu Sans Mono',consolas,'Courier New',monospace\"><span style=\"font-weight: bold\">Model: \"sequential_1\"</span>\n",
              "</pre>\n"
            ]
          },
          "metadata": {}
        },
        {
          "output_type": "display_data",
          "data": {
            "text/plain": [
              "┏━━━━━━━━━━━━━━━━━━━━━━━━━━━━━━━━━┳━━━━━━━━━━━━━━━━━━━━━━━━┳━━━━━━━━━━━━━━━┓\n",
              "┃\u001b[1m \u001b[0m\u001b[1mLayer (type)                   \u001b[0m\u001b[1m \u001b[0m┃\u001b[1m \u001b[0m\u001b[1mOutput Shape          \u001b[0m\u001b[1m \u001b[0m┃\u001b[1m \u001b[0m\u001b[1m      Param #\u001b[0m\u001b[1m \u001b[0m┃\n",
              "┡━━━━━━━━━━━━━━━━━━━━━━━━━━━━━━━━━╇━━━━━━━━━━━━━━━━━━━━━━━━╇━━━━━━━━━━━━━━━┩\n",
              "│ embedding_1 (\u001b[38;5;33mEmbedding\u001b[0m)         │ (\u001b[38;5;45mNone\u001b[0m, \u001b[38;5;34m250\u001b[0m, \u001b[38;5;34m128\u001b[0m)       │     \u001b[38;5;34m1,280,000\u001b[0m │\n",
              "├─────────────────────────────────┼────────────────────────┼───────────────┤\n",
              "│ lstm (\u001b[38;5;33mLSTM\u001b[0m)                     │ (\u001b[38;5;45mNone\u001b[0m, \u001b[38;5;34m128\u001b[0m)            │       \u001b[38;5;34m131,584\u001b[0m │\n",
              "├─────────────────────────────────┼────────────────────────┼───────────────┤\n",
              "│ dense_1 (\u001b[38;5;33mDense\u001b[0m)                 │ (\u001b[38;5;45mNone\u001b[0m, \u001b[38;5;34m1\u001b[0m)              │           \u001b[38;5;34m129\u001b[0m │\n",
              "└─────────────────────────────────┴────────────────────────┴───────────────┘\n"
            ],
            "text/html": [
              "<pre style=\"white-space:pre;overflow-x:auto;line-height:normal;font-family:Menlo,'DejaVu Sans Mono',consolas,'Courier New',monospace\">┏━━━━━━━━━━━━━━━━━━━━━━━━━━━━━━━━━┳━━━━━━━━━━━━━━━━━━━━━━━━┳━━━━━━━━━━━━━━━┓\n",
              "┃<span style=\"font-weight: bold\"> Layer (type)                    </span>┃<span style=\"font-weight: bold\"> Output Shape           </span>┃<span style=\"font-weight: bold\">       Param # </span>┃\n",
              "┡━━━━━━━━━━━━━━━━━━━━━━━━━━━━━━━━━╇━━━━━━━━━━━━━━━━━━━━━━━━╇━━━━━━━━━━━━━━━┩\n",
              "│ embedding_1 (<span style=\"color: #0087ff; text-decoration-color: #0087ff\">Embedding</span>)         │ (<span style=\"color: #00d7ff; text-decoration-color: #00d7ff\">None</span>, <span style=\"color: #00af00; text-decoration-color: #00af00\">250</span>, <span style=\"color: #00af00; text-decoration-color: #00af00\">128</span>)       │     <span style=\"color: #00af00; text-decoration-color: #00af00\">1,280,000</span> │\n",
              "├─────────────────────────────────┼────────────────────────┼───────────────┤\n",
              "│ lstm (<span style=\"color: #0087ff; text-decoration-color: #0087ff\">LSTM</span>)                     │ (<span style=\"color: #00d7ff; text-decoration-color: #00d7ff\">None</span>, <span style=\"color: #00af00; text-decoration-color: #00af00\">128</span>)            │       <span style=\"color: #00af00; text-decoration-color: #00af00\">131,584</span> │\n",
              "├─────────────────────────────────┼────────────────────────┼───────────────┤\n",
              "│ dense_1 (<span style=\"color: #0087ff; text-decoration-color: #0087ff\">Dense</span>)                 │ (<span style=\"color: #00d7ff; text-decoration-color: #00d7ff\">None</span>, <span style=\"color: #00af00; text-decoration-color: #00af00\">1</span>)              │           <span style=\"color: #00af00; text-decoration-color: #00af00\">129</span> │\n",
              "└─────────────────────────────────┴────────────────────────┴───────────────┘\n",
              "</pre>\n"
            ]
          },
          "metadata": {}
        },
        {
          "output_type": "display_data",
          "data": {
            "text/plain": [
              "\u001b[1m Total params: \u001b[0m\u001b[38;5;34m1,411,713\u001b[0m (5.39 MB)\n"
            ],
            "text/html": [
              "<pre style=\"white-space:pre;overflow-x:auto;line-height:normal;font-family:Menlo,'DejaVu Sans Mono',consolas,'Courier New',monospace\"><span style=\"font-weight: bold\"> Total params: </span><span style=\"color: #00af00; text-decoration-color: #00af00\">1,411,713</span> (5.39 MB)\n",
              "</pre>\n"
            ]
          },
          "metadata": {}
        },
        {
          "output_type": "display_data",
          "data": {
            "text/plain": [
              "\u001b[1m Trainable params: \u001b[0m\u001b[38;5;34m1,411,713\u001b[0m (5.39 MB)\n"
            ],
            "text/html": [
              "<pre style=\"white-space:pre;overflow-x:auto;line-height:normal;font-family:Menlo,'DejaVu Sans Mono',consolas,'Courier New',monospace\"><span style=\"font-weight: bold\"> Trainable params: </span><span style=\"color: #00af00; text-decoration-color: #00af00\">1,411,713</span> (5.39 MB)\n",
              "</pre>\n"
            ]
          },
          "metadata": {}
        },
        {
          "output_type": "display_data",
          "data": {
            "text/plain": [
              "\u001b[1m Non-trainable params: \u001b[0m\u001b[38;5;34m0\u001b[0m (0.00 B)\n"
            ],
            "text/html": [
              "<pre style=\"white-space:pre;overflow-x:auto;line-height:normal;font-family:Menlo,'DejaVu Sans Mono',consolas,'Courier New',monospace\"><span style=\"font-weight: bold\"> Non-trainable params: </span><span style=\"color: #00af00; text-decoration-color: #00af00\">0</span> (0.00 B)\n",
              "</pre>\n"
            ]
          },
          "metadata": {}
        }
      ],
      "source": [
        "lstm.summary()"
      ]
    },
    {
      "cell_type": "code",
      "execution_count": null,
      "id": "df50d2c7",
      "metadata": {
        "id": "df50d2c7"
      },
      "outputs": [],
      "source": [
        "lstm.compile(optimizer = 'adam', loss = 'binary_crossentropy', metrics = ['accuracy'])"
      ]
    },
    {
      "cell_type": "code",
      "execution_count": null,
      "id": "fc73eaf3",
      "metadata": {
        "colab": {
          "base_uri": "https://localhost:8080/"
        },
        "id": "fc73eaf3",
        "outputId": "8f2046a0-9f36-4f92-f550-ed35287aa82e"
      },
      "outputs": [
        {
          "output_type": "stream",
          "name": "stdout",
          "text": [
            "Epoch 1/20\n",
            "\u001b[1m1000/1000\u001b[0m \u001b[32m━━━━━━━━━━━━━━━━━━━━\u001b[0m\u001b[37m\u001b[0m \u001b[1m18s\u001b[0m 15ms/step - accuracy: 0.7784 - loss: 0.4582 - val_accuracy: 0.8774 - val_loss: 0.2980\n",
            "Epoch 2/20\n",
            "\u001b[1m1000/1000\u001b[0m \u001b[32m━━━━━━━━━━━━━━━━━━━━\u001b[0m\u001b[37m\u001b[0m \u001b[1m17s\u001b[0m 16ms/step - accuracy: 0.9077 - loss: 0.2400 - val_accuracy: 0.8806 - val_loss: 0.2878\n",
            "Epoch 3/20\n",
            "\u001b[1m1000/1000\u001b[0m \u001b[32m━━━━━━━━━━━━━━━━━━━━\u001b[0m\u001b[37m\u001b[0m \u001b[1m16s\u001b[0m 12ms/step - accuracy: 0.9438 - loss: 0.1522 - val_accuracy: 0.8790 - val_loss: 0.3418\n",
            "Epoch 4/20\n",
            "\u001b[1m1000/1000\u001b[0m \u001b[32m━━━━━━━━━━━━━━━━━━━━\u001b[0m\u001b[37m\u001b[0m \u001b[1m12s\u001b[0m 12ms/step - accuracy: 0.9645 - loss: 0.1049 - val_accuracy: 0.8715 - val_loss: 0.3841\n",
            "Epoch 5/20\n",
            "\u001b[1m1000/1000\u001b[0m \u001b[32m━━━━━━━━━━━━━━━━━━━━\u001b[0m\u001b[37m\u001b[0m \u001b[1m21s\u001b[0m 12ms/step - accuracy: 0.9792 - loss: 0.0634 - val_accuracy: 0.8689 - val_loss: 0.4794\n",
            "Epoch 6/20\n",
            "\u001b[1m1000/1000\u001b[0m \u001b[32m━━━━━━━━━━━━━━━━━━━━\u001b[0m\u001b[37m\u001b[0m \u001b[1m21s\u001b[0m 13ms/step - accuracy: 0.9849 - loss: 0.0451 - val_accuracy: 0.8630 - val_loss: 0.6022\n",
            "Epoch 7/20\n",
            "\u001b[1m1000/1000\u001b[0m \u001b[32m━━━━━━━━━━━━━━━━━━━━\u001b[0m\u001b[37m\u001b[0m \u001b[1m13s\u001b[0m 13ms/step - accuracy: 0.9913 - loss: 0.0274 - val_accuracy: 0.8606 - val_loss: 0.5670\n"
          ]
        }
      ],
      "source": [
        "# Training the model\n",
        "\n",
        "lstm_history = lstm.fit(X_train, Y_train, epochs = 20, batch_size = 32,\n",
        "          validation_split = 0.2,\n",
        "          callbacks = [early_stopping]\n",
        ")"
      ]
    },
    {
      "cell_type": "code",
      "execution_count": null,
      "id": "b56bdb08",
      "metadata": {
        "colab": {
          "base_uri": "https://localhost:8080/"
        },
        "id": "b56bdb08",
        "outputId": "b9e546b7-e170-4177-a533-e354ccad5ac2"
      },
      "outputs": [
        {
          "output_type": "stream",
          "name": "stdout",
          "text": [
            "\u001b[1m313/313\u001b[0m \u001b[32m━━━━━━━━━━━━━━━━━━━━\u001b[0m\u001b[37m\u001b[0m \u001b[1m2s\u001b[0m 6ms/step - accuracy: 0.8851 - loss: 0.2784\n"
          ]
        }
      ],
      "source": [
        "result = lstm.evaluate(X_test, Y_test, verbose = 1)"
      ]
    },
    {
      "cell_type": "code",
      "execution_count": null,
      "id": "7ddf508b",
      "metadata": {
        "colab": {
          "base_uri": "https://localhost:8080/"
        },
        "id": "7ddf508b",
        "outputId": "a65c11ef-78c4-49a0-bece-f3a897b6bd41"
      },
      "outputs": [
        {
          "output_type": "stream",
          "name": "stdout",
          "text": [
            "Test Accuracy: 0.8865000009536743\n",
            "Test Loss: 0.28064602613449097\n"
          ]
        }
      ],
      "source": [
        "print(\"Test Accuracy:\", result[1])\n",
        "print(\"Test Loss:\", result[0])"
      ]
    },
    {
      "cell_type": "code",
      "execution_count": null,
      "id": "d3aef810",
      "metadata": {
        "colab": {
          "base_uri": "https://localhost:8080/",
          "height": 607
        },
        "id": "d3aef810",
        "outputId": "ef427e51-0a6b-41ac-a0a7-327b6827525d"
      },
      "outputs": [
        {
          "output_type": "display_data",
          "data": {
            "text/plain": [
              "<Figure size 1200x600 with 2 Axes>"
            ],
            "image/png": "[encoded data removed]"
          },
          "metadata": {}
        }
      ],
      "source": [
        "# Number of epochs\n",
        "epochs = range(1, len(lstm_history.history['accuracy']) + 1)\n",
        "\n",
        "plt.figure(figsize=(12, 6))\n",
        "\n",
        "# Accuracy Plot\n",
        "plt.subplot(1, 2, 1)\n",
        "plt.plot(epochs, lstm_history.history[\"accuracy\"], color = 'blue', marker = 'o')\n",
        "plt.plot(epochs, lstm_history.history[\"val_accuracy\"], color = 'orange', marker = 'o')\n",
        "plt.title(\"Model Accuracy\", fontsize = 14)\n",
        "plt.xlabel(\"Epochs\", color = 'black')\n",
        "plt.ylabel(\"Accuracy\", color = 'black')\n",
        "plt.legend(['Train', 'Validation'], loc = \"lower right\")\n",
        "\n",
        "# Loss Plot\n",
        "plt.subplot(1, 2, 2)\n",
        "plt.plot(epochs, lstm_history.history[\"loss\"], color = 'purple', marker = 'o')\n",
        "plt.plot(epochs, lstm_history.history[\"val_loss\"], color = 'red', marker = 'o')\n",
        "plt.title(\"Model Loss\", fontsize = 14)\n",
        "plt.xlabel(\"Epochs\", color = 'black')\n",
        "plt.ylabel(\"Loss\", color = 'black')\n",
        "plt.legend(['Train', 'Validation'], loc = \"upper right\")\n",
        "\n",
        "plt.tight_layout()\n",
        "plt.show()\n"
      ]
    },
    {
      "cell_type": "markdown",
      "id": "fb46118d",
      "metadata": {
        "id": "fb46118d"
      },
      "source": [
        "**Using LSTM we achieved an accuracy of 88.5% on the test set, which is a significant improvement over the standard RNN model.**"
      ]
    },
    {
      "cell_type": "code",
      "execution_count": null,
      "id": "56ac86bc",
      "metadata": {
        "colab": {
          "base_uri": "https://localhost:8080/"
        },
        "id": "56ac86bc",
        "outputId": "6088f5d7-e281-4f5b-bcc3-3dd83db39498"
      },
      "outputs": [
        {
          "output_type": "stream",
          "name": "stderr",
          "text": [
            "WARNING:absl:You are saving your model as an HDF5 file via `model.save()` or `keras.saving.save_model(model)`. This file format is considered legacy. We recommend using instead the native Keras format, e.g. `model.save('my_model.keras')` or `keras.saving.save_model(model, 'my_model.keras')`. \n"
          ]
        }
      ],
      "source": [
        "# Run this command to save this model locally for End to End Prediction\n",
        "\n",
        "lstm.save(\"models/lstm_sentiment_classifier.h5\")"
      ]
    },
    {
      "cell_type": "markdown",
      "source": [
        "## Prediction System"
      ],
      "metadata": {
        "id": "DmEPWBxZCHa7"
      },
      "id": "DmEPWBxZCHa7"
    },
    {
      "cell_type": "code",
      "source": [
        "# Prediction function\n",
        "\n",
        "def predict_sentiment(review_text, tokenizer, preprocess, maxlen = 250):\n",
        "\n",
        "    # Preprocess text\n",
        "    review = preprocess.preprocess_text(review_text)\n",
        "\n",
        "    # Tokenize\n",
        "    seq = tokenizer.texts_to_sequences([review])\n",
        "\n",
        "    # Pad sequence\n",
        "    padded = pad_sequences(seq, maxlen = maxlen)\n",
        "\n",
        "    # Predict\n",
        "    pred_prob = lstm.predict(padded)[0][0]\n",
        "    sentiment = 'Positive' if pred_prob >= 0.5 else 'Negative'\n",
        "\n",
        "    return sentiment, pred_prob"
      ],
      "metadata": {
        "id": "VXTrvijiBiF1"
      },
      "id": "VXTrvijiBiF1",
      "execution_count": null,
      "outputs": []
    },
    {
      "cell_type": "code",
      "source": [
        "review1 = \"This movie was amazing with great acting and story!\"\n",
        "review2 = \"The movie is okayish, should consider working on the story part more. Overall ok\"\n",
        "review3 = \"The moview is utter shit. It is not upto the mark. Very bad.\"\n",
        "\n",
        "preprocess = PreprocessData()\n",
        "\n",
        "sentiment, probability = predict_sentiment(review1, tokenizer, preprocess)\n",
        "print(f\"Sentiment Analysis of Review1: {sentiment}, Probability: {probability:.2f}\")\n",
        "\n",
        "sentiment, probability = predict_sentiment(review2, tokenizer, preprocess)\n",
        "print(f\"Sentiment Analysis of Review2: {sentiment}, Probability: {probability:.2f}\")\n",
        "\n",
        "sentiment, probability = predict_sentiment(review3, tokenizer, preprocess)\n",
        "print(f\"Sentiment Analysis of Review3: {sentiment}, Probability: {probability:.2f}\")"
      ],
      "metadata": {
        "colab": {
          "base_uri": "https://localhost:8080/"
        },
        "id": "EZ5UcygGDccL",
        "outputId": "687d2afa-0aec-4f21-9fd7-571314845d4d"
      },
      "id": "EZ5UcygGDccL",
      "execution_count": null,
      "outputs": [
        {
          "output_type": "stream",
          "name": "stdout",
          "text": [
            "\u001b[1m1/1\u001b[0m \u001b[32m━━━━━━━━━━━━━━━━━━━━\u001b[0m\u001b[37m\u001b[0m \u001b[1m0s\u001b[0m 30ms/step\n",
            "Sentiment Analysis of Review1: Positive, Probability: 0.87\n",
            "\u001b[1m1/1\u001b[0m \u001b[32m━━━━━━━━━━━━━━━━━━━━\u001b[0m\u001b[37m\u001b[0m \u001b[1m0s\u001b[0m 32ms/step\n",
            "Sentiment Analysis of Review2: Negative, Probability: 0.30\n",
            "\u001b[1m1/1\u001b[0m \u001b[32m━━━━━━━━━━━━━━━━━━━━\u001b[0m\u001b[37m\u001b[0m \u001b[1m0s\u001b[0m 32ms/step\n",
            "Sentiment Analysis of Review3: Negative, Probability: 0.12\n"
          ]
        }
      ]
    }
  ],
  "metadata": {
    "kernelspec": {
      "display_name": "Python 3",
      "name": "python3"
    },
    "language_info": {
      "codemirror_mode": {
        "name": "ipython",
        "version": 3
      },
      "file_extension": ".py",
      "mimetype": "text/x-python",
      "name": "python",
      "nbconvert_exporter": "python",
      "pygments_lexer": "ipython3",
      "version": "3.12.11"
    },
    "colab": {
      "provenance": [],
      "gpuType": "T4"
    },
    "accelerator": "GPU"
  },
  "nbformat": 4,
  "nbformat_minor": 5
}